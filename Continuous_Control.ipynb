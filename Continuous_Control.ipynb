{
 "cells": [
  {
   "cell_type": "markdown",
   "metadata": {},
   "source": [
    "# Continuous Control\n",
    "\n",
    "---\n",
    "\n",
    "You are welcome to use this coding environment to train your agent for the project.  Follow the instructions below to get started!\n",
    "\n",
    "### 1. Start the Environment\n",
    "\n",
    "Run the next code cell to install a few packages.  This line will take a few minutes to run!"
   ]
  },
  {
   "cell_type": "code",
   "execution_count": 1,
   "metadata": {},
   "outputs": [
    {
     "name": "stdout",
     "output_type": "stream",
     "text": [
      "\u001b[31mtensorflow 1.7.1 has requirement numpy>=1.13.3, but you'll have numpy 1.12.1 which is incompatible.\u001b[0m\r\n",
      "\u001b[31mipython 6.5.0 has requirement prompt-toolkit<2.0.0,>=1.0.15, but you'll have prompt-toolkit 2.0.9 which is incompatible.\u001b[0m\r\n"
     ]
    }
   ],
   "source": [
    "!pip -q install ./python"
   ]
  },
  {
   "cell_type": "markdown",
   "metadata": {},
   "source": [
    "The environments corresponding to both versions of the environment are already saved in the Workspace and can be accessed at the file paths provided below.  \n",
    "\n",
    "Please select one of the two options below for loading the environment."
   ]
  },
  {
   "cell_type": "code",
   "execution_count": 2,
   "metadata": {},
   "outputs": [
    {
     "name": "stderr",
     "output_type": "stream",
     "text": [
      "INFO:unityagents:\n",
      "'Academy' started successfully!\n",
      "Unity Academy name: Academy\n",
      "        Number of Brains: 1\n",
      "        Number of External Brains : 1\n",
      "        Lesson number : 0\n",
      "        Reset Parameters :\n",
      "\t\tgoal_speed -> 1.0\n",
      "\t\tgoal_size -> 5.0\n",
      "Unity brain name: ReacherBrain\n",
      "        Number of Visual Observations (per agent): 0\n",
      "        Vector Observation space type: continuous\n",
      "        Vector Observation space size (per agent): 33\n",
      "        Number of stacked Vector Observation: 1\n",
      "        Vector Action space type: continuous\n",
      "        Vector Action space size (per agent): 4\n",
      "        Vector Action descriptions: , , , \n"
     ]
    }
   ],
   "source": [
    "from unityagents import UnityEnvironment\n",
    "import numpy as np\n",
    "\n",
    "# select this option to load version 1 (with a single agent) of the environment\n",
    "# env = UnityEnvironment(file_name='/data/Reacher_One_Linux_NoVis/Reacher_One_Linux_NoVis.x86_64')\n",
    "\n",
    "# select this option to load version 2 (with 20 agents) of the environment\n",
    "env = UnityEnvironment(file_name='/data/Reacher_Linux_NoVis/Reacher.x86_64')"
   ]
  },
  {
   "cell_type": "markdown",
   "metadata": {},
   "source": [
    "Environments contain **_brains_** which are responsible for deciding the actions of their associated agents. Here we check for the first brain available, and set it as the default brain we will be controlling from Python."
   ]
  },
  {
   "cell_type": "code",
   "execution_count": 3,
   "metadata": {},
   "outputs": [],
   "source": [
    "# get the default brain\n",
    "brain_name = env.brain_names[0]\n",
    "brain = env.brains[brain_name]"
   ]
  },
  {
   "cell_type": "code",
   "execution_count": 4,
   "metadata": {},
   "outputs": [],
   "source": [
    "import numpy as np\n",
    "import math\n",
    "import torch\n",
    "import torch.nn as nn\n",
    "import json\n",
    "import torch.nn.functional as F\n",
    "import torch.optim as optim\n",
    "from collections import namedtuple, deque\n",
    "\n",
    "\n",
    "device = torch.device(\"cuda:0\" if torch.cuda.is_available() else \"cpu\")\n",
    "\n",
    "def parse_params(params_dir):\n",
    "    with open(params_dir) as fp:\n",
    "        params = json.load(fp)\n",
    "    return params\n",
    "\n",
    "\n",
    "class A2C_model(nn.Module):\n",
    "    def __init__(self, params_dir, input_dim, act_size):\n",
    "        super().__init__()\n",
    "        self.input_dim = input_dim\n",
    "        self.params = parse_params(params_dir)\n",
    "        self.base = self.create_base(self.input_dim)\n",
    "        self.mu = nn.Sequential(nn.Linear(self.params['hidden_dim'],\n",
    "                                          act_size), nn.Tanh())\n",
    "        self.var = nn.Sequential(nn.Linear(self.params['hidden_dim'],\n",
    "                                           act_size),\n",
    "                                 nn.Softplus(threshold=5))\n",
    "        self.val = nn.Sequential(nn.Linear(self.params['hidden_dim'], 1),\n",
    "                                 nn.ReLU())\n",
    "        self.std = nn.Parameter(torch.ones(1, act_size))\n",
    "\n",
    "    def create_base(self, input_dim):\n",
    "        module_list = nn.ModuleList()\n",
    "        layer = nn.Sequential()\n",
    "        fc = nn.Linear(input_dim, self.params['hidden_dim'])\n",
    "        layer.add_module(f\"fc_layer_1\", fc)\n",
    "        # layer.add_module(f\"bn_layer_1\",\n",
    "                         # nn.BatchNorm1d(self.params['hidden_dim']))\n",
    "        layer.add_module(f\"RELU_layer_1\", nn.LeakyReLU())\n",
    "        module_list.append(layer)\n",
    "        input_dim = self.params['hidden_dim']\n",
    "        for i in range(2, self.params['num_hidden_layers']+2):\n",
    "            fc = nn.Linear(input_dim, self.params['hidden_dim'])\n",
    "            layer.add_module(f\"fc_layer_{i}\", fc)\n",
    "            # layer.add_module(f\"bn_layer_{i}\",\n",
    "                             # nn.BatchNorm1d(self.params['hidden_dim']))\n",
    "            layer.add_module(f\"RELU_layer_{i}\", nn.LeakyReLU())\n",
    "        # print(module_list)\n",
    "        return module_list\n",
    "\n",
    "    def forward(self, states):\n",
    "        x_ = states\n",
    "        for m in self.base:\n",
    "            x_ = m(x_)\n",
    "        mu = self.mu(x_)\n",
    "        # var = self.var(x_)\n",
    "        # etp = (-(torch.log(2*math.pi*var) + 1)/2).mean()\n",
    "        # std = torch.sqrt(var)\n",
    "        # print(f\"var : {var}\")\n",
    "        # print(f\"stand deviation : {std}\")\n",
    "        val = self.val(x_)\n",
    "        # print(f\"state value :{val}\")\n",
    "        return mu, self.std, val\n",
    "\n",
    "\n",
    "class Agent_A2c():\n",
    "    def __init__(self, model, num_agents):\n",
    "        self.model = model\n",
    "        self.device = device\n",
    "        self.num_agents = num_agents\n",
    "        self.params = self.model.params\n",
    "        self.optimizer = optim.Adam(self.model.parameters(),\n",
    "                                    lr=self.params['lr'])\n",
    "\n",
    "    def __call__(self, states):\n",
    "        # mu, std, val, etp = self.model(states)\n",
    "        mu, std, val = self.model(states)\n",
    "        dist = torch.distributions.Normal(mu, std)\n",
    "        # actions = torch.clamp(dist.sample(), -1, 1)\n",
    "        actions = dist.sample()\n",
    "        # print(f\"actions  {actions}\")\n",
    "        \n",
    "        log_prob = dist.log_prob(actions)\n",
    "        # print(f\"log_prob after dist:  {log_prob}\")\n",
    "        return actions, log_prob, val\n",
    "\n",
    "    def step(self, experiences, env):\n",
    "        '''\n",
    "            experiences:\n",
    "                list with n_steps_taken * [actions, rewards, log_probs,\n",
    "                                           not_dones, state_values]:\n",
    "                    actions (tensor: num agents * num actions)\n",
    "                    rewards (list: size = num agents)\n",
    "                    log_probs (tensor: num agents * num actions)\n",
    "                    not_dones (np array: size = num agents)\n",
    "                    state_values (list: size = num agents)\n",
    "        '''\n",
    "        \n",
    "        # ENTROPY_BETA = 0.001\n",
    "        actions, rewards, log_probs, not_dones, state_values = experiences\n",
    "        rewards = torch.FloatTensor(rewards).transpose(0, 1).contiguous()\n",
    "        state_values_last = state_values[-1].detach()\n",
    "        # state_values_last = state_values[-1]\n",
    "                                             \n",
    "        processed_experience = [None]* len(experiences[0])\n",
    "        for i in reversed(range(len(experiences[0]))):\n",
    "            power = (len(experiences[0])-i)\n",
    "            not_done_ = torch.FloatTensor(not_dones[i]).to(device).unsqueeze(1)\n",
    "            discount_ = np.array([((self.params['gamma'] ** p )) for p in range(power)])\n",
    "            discount_ = torch.FloatTensor(discount_).to(device).unsqueeze(1)\n",
    "            # print(f\"discount_ : {discount_}\")\n",
    "            # print(f\"return before discount : {rewards[:, i:]}\")\n",
    "            # print(f\"Discounted return : {torch.mm(rewards[:, i:].to(device), discount_) }\")\n",
    "            # print(f\"Before discounted last return: {state_values_last}\")\n",
    "            # print(f\"discounted last return: {self.params['gamma'] ** power * not_done_ * state_values_last}\")\n",
    "            # print(f\" gamma : {self.params['gamma']}  power: {power}, mm: {torch.mm(rewards[:, i:].to(device), discount_)}\")\n",
    "            rewards_ = torch.mm(rewards[:, i:].to(device), discount_)\n",
    "            advantage_v_ =  rewards_+ self.params['gamma'] ** power * not_done_ * state_values_last - - state_values[i]\n",
    "            # print(f\"returns_ : {returns_}\")\n",
    "            advantage_v_ = returns_ - state_values[i]\n",
    "            # print(f\"advantage : {advantage_v_}\")\n",
    "            # advantage_p_ = advantage_v_.detach()\n",
    "            advantage_p_ = returns_ - state_values[i].detach()\n",
    "            # advantage_p_ = returns_ - state_values[i]\n",
    "            processed_experience[i] = [log_probs[i], advantage_v_, advantage_p_]\n",
    "        log_prob, advantage_v, advantage_p = map(lambda x: torch.cat(x, dim=0), zip(*processed_experience))\n",
    "        # print(f\"log_prob : {log_prob}\")\n",
    "        policy_loss = -log_prob * advantage_p.mean()\n",
    "        value_loss = 0.5 * (advantage_v).pow(2).mean()\n",
    "        # entropy_loss = ENTROPY_BETA * torch.FloatTensor(etps).to(device)\n",
    "        # print(f\"policy_loss : {policy_loss.mean()}\")\n",
    "        # print(f\"value_loss : {value_loss.mean()}\")\n",
    "        loss_v = policy_loss  +  0.5*value_loss\n",
    "        # print(f\"loss : {loss_v.mean()}\")\n",
    "        self.optimizer.zero_grad()\n",
    "        if torch.isnan(loss_v).any():\n",
    "            print('very bad')\n",
    "            pass\n",
    "        loss_v.mean().backward()\n",
    "        nn.utils.clip_grad_norm_(self.model.parameters(), 5) # clip gradient\n",
    "        self.optimizer.step()\n",
    "\n",
    "    \n",
    "    \n",
    "class Experience():\n",
    "    def __init__(self):\n",
    "        self.actions = []\n",
    "        self.rewards = []\n",
    "        self.log_probs = []\n",
    "        self.not_dones = []\n",
    "        self.state_values = []\n",
    "        # self.etp = []\n",
    "\n",
    "    def add(self, actions, rewards, log_probs, not_dones, state_values):\n",
    "        self.actions.append(actions)\n",
    "        self.rewards.append(rewards)\n",
    "        self.log_probs.append(log_probs)\n",
    "        self.not_dones.append(not_dones)\n",
    "        self.state_values.append(state_values)\n",
    "        # self.etp.append(etp)\n",
    "\n",
    "    def spit(self):\n",
    "        return (self.actions, self.rewards, self.log_probs, self.not_dones,\n",
    "                self.state_values)"
   ]
  },
  {
   "cell_type": "code",
   "execution_count": 5,
   "metadata": {},
   "outputs": [
    {
     "name": "stdout",
     "output_type": "stream",
     "text": [
      "3\n",
      "2\n",
      "1\n",
      "0\n"
     ]
    }
   ],
   "source": [
    "for i in range(5-2,-1,-1):\n",
    "    print(i)"
   ]
  },
  {
   "cell_type": "markdown",
   "metadata": {},
   "source": [
    "### 2. Examine the State and Action Spaces\n",
    "\n",
    "Run the code cell below to print some information about the environment."
   ]
  },
  {
   "cell_type": "code",
   "execution_count": 5,
   "metadata": {},
   "outputs": [
    {
     "name": "stdout",
     "output_type": "stream",
     "text": [
      "Number of agents: 20\n",
      "Size of each action: 4\n",
      "There are 20 agents. Each observes a state with length: 33\n",
      "The state for the first agent looks like: [  0.00000000e+00  -4.00000000e+00   0.00000000e+00   1.00000000e+00\n",
      "  -0.00000000e+00  -0.00000000e+00  -4.37113883e-08   0.00000000e+00\n",
      "   0.00000000e+00   0.00000000e+00   0.00000000e+00   0.00000000e+00\n",
      "   0.00000000e+00   0.00000000e+00  -1.00000000e+01   0.00000000e+00\n",
      "   1.00000000e+00  -0.00000000e+00  -0.00000000e+00  -4.37113883e-08\n",
      "   0.00000000e+00   0.00000000e+00   0.00000000e+00   0.00000000e+00\n",
      "   0.00000000e+00   0.00000000e+00   5.75471878e+00  -1.00000000e+00\n",
      "   5.55726624e+00   0.00000000e+00   1.00000000e+00   0.00000000e+00\n",
      "  -1.68164849e-01]\n"
     ]
    }
   ],
   "source": [
    "# reset the environment\n",
    "env_info = env.reset(train_mode=True)[brain_name]\n",
    "\n",
    "# number of agents\n",
    "num_agents = len(env_info.agents)\n",
    "print('Number of agents:', num_agents)\n",
    "\n",
    "# size of each action\n",
    "action_size = brain.vector_action_space_size\n",
    "print('Size of each action:', action_size)\n",
    "\n",
    "# examine the state space \n",
    "states = env_info.vector_observations\n",
    "state_size = states.shape[1]\n",
    "print('There are {} agents. Each observes a state with length: {}'.format(states.shape[0], state_size))\n",
    "print('The state for the first agent looks like:', states[0])"
   ]
  },
  {
   "cell_type": "code",
   "execution_count": 6,
   "metadata": {},
   "outputs": [],
   "source": [
    "params_dir = f\"./params.txt\"\n",
    "torch.manual_seed(420)\n",
    "model = A2C_model(params_dir, state_size, action_size).to(device)\n",
    "agent = Agent_A2c(model, num_agents)"
   ]
  },
  {
   "cell_type": "code",
   "execution_count": 67,
   "metadata": {},
   "outputs": [
    {
     "name": "stdout",
     "output_type": "stream",
     "text": [
      "1\n"
     ]
    }
   ],
   "source": [
    "print(1)"
   ]
  },
  {
   "cell_type": "markdown",
   "metadata": {},
   "source": [
    "### 3. Take Random Actions in the Environment\n",
    "\n",
    "In the next code cell, you will learn how to use the Python API to control the agent and receive feedback from the environment.\n",
    "\n",
    "Note that **in this coding environment, you will not be able to watch the agents while they are training**, and you should set `train_mode=True` to restart the environment."
   ]
  },
  {
   "cell_type": "code",
   "execution_count": null,
   "metadata": {},
   "outputs": [],
   "source": [
    "actions = np.random.randn(num_agents, action_size)\n",
    "actions = np.clip(actions, -1, 1)  \n",
    "env_info = env.step(actions)[brain_name]           # send all actions to tne environment\n",
    "next_states = env_info.vector_observations   "
   ]
  },
  {
   "cell_type": "code",
   "execution_count": 7,
   "metadata": {},
   "outputs": [],
   "source": [
    "env_info = env.step(actions)[brain_name]  "
   ]
  },
  {
   "cell_type": "code",
   "execution_count": null,
   "metadata": {
    "scrolled": true
   },
   "outputs": [],
   "source": [
    "env_info = env.reset(train_mode=True)[brain_name]      # reset the environment    \n",
    "states = env_info.vector_observations                  # get the current state (for each agent)\n",
    "scores = np.zeros(num_agents)                          # initialize the score (for each agent)\n",
    "while True:\n",
    "    actions = np.random.randn(num_agents, action_size) # select an action (for each agent)\n",
    "    actions = np.clip(actions, -1, 1)                  # all actions between -1 and 1\n",
    "    env_info = env.step(actions)[brain_name]           # send all actions to tne environment\n",
    "    next_states = env_info.vector_observations         # get next state (for each agent)\n",
    "    rewards = env_info.rewards                         # get reward (for each agent)\n",
    "    dones = env_info.local_done                        # see if episode finished\n",
    "    scores += env_info.rewards                         # update the score (for each agent)\n",
    "    states = next_states                               # roll over states to next time step\n",
    "    if np.any(dones):                                  # exit loop if episode finished\n",
    "        break\n",
    "print('Total score (averaged over agents) this episode: {}'.format(np.mean(scores)))"
   ]
  },
  {
   "cell_type": "code",
   "execution_count": 19,
   "metadata": {},
   "outputs": [],
   "source": [
    "actions_, log_prob_, state_values_, etp_ = agent(\n",
    "                torch.FloatTensor(states).to(device))"
   ]
  },
  {
   "cell_type": "code",
   "execution_count": 17,
   "metadata": {},
   "outputs": [
    {
     "name": "stdout",
     "output_type": "stream",
     "text": [
      "[12, 13]\n"
     ]
    }
   ],
   "source": [
    "a = [12]\n",
    "a.append(13)\n",
    "print(a)"
   ]
  },
  {
   "cell_type": "code",
   "execution_count": 7,
   "metadata": {},
   "outputs": [
    {
     "name": "stdout",
     "output_type": "stream",
     "text": [
      "0.614999986254\n",
      "0.623499986064\n",
      "0.657999985293\n",
      "0.876999980398\n",
      "0.423499990534\n",
      "0.494999988936\n",
      "0.79499998223\n",
      "0.982999978028\n",
      "0.864499980677\n",
      "0.956999978609\n",
      "0.993999977782\n",
      "0.25099999439\n",
      "0.0299999993294\n",
      "0.150499996636\n",
      "0.0374999991618\n",
      "0.0134999996983\n",
      "0.0239999994636\n",
      "0.0179999995977\n",
      "0.0179999995977\n",
      "0.0319999992847\n",
      "0.0\n",
      "0.0274999993853\n",
      "0.00499999988824\n",
      "0.0109999997541\n",
      "0.112999997474\n",
      "0.0299999993294\n",
      "0.0484999989159\n",
      "0.0754999983124\n",
      "0.0134999996983\n",
      "0.0439999990165\n",
      "0.02549999943\n",
      "0.0319999992847\n",
      "0.0259999994189\n",
      "0.0449999989942\n",
      "0.0504999988712\n",
      "0.00749999983236\n",
      "0.0619999986142\n",
      "0.0119999997318\n",
      "0.0449999989942\n",
      "0.0449999989942\n",
      "0.0854999980889\n",
      "0.202999995463\n",
      "0.0194999995641\n",
      "0.02549999943\n",
      "0.0299999993294\n",
      "0.0874999980442\n",
      "0.0149999996647\n",
      "0.0544999987818\n",
      "0.550999987684\n",
      "0.628499985952\n",
      "0.682499984745\n",
      "0.839499981236\n",
      "0.745499983337\n",
      "0.818499981705\n",
      "0.763499982934\n",
      "0.707499984186\n",
      "0.736999983527\n",
      "0.695999984443\n",
      "0.725999983773\n",
      "0.797999982163\n",
      "0.881499980297\n",
      "0.890999980085\n",
      "0.764999982901\n",
      "0.765999982879\n",
      "0.633999985829\n",
      "0.704999984242\n",
      "0.79099998232\n",
      "0.665999985114\n",
      "0.678999984823\n",
      "0.736999983527\n",
      "0.720499983896\n",
      "0.826999981515\n",
      "0.762499982957\n",
      "0.71849998394\n",
      "0.726499983761\n",
      "0.780999982543\n",
      "0.66349998517\n",
      "0.665999985114\n",
      "0.772999982722\n",
      "0.744499983359\n",
      "0.761999982968\n",
      "0.845499981102\n",
      "0.758499983046\n",
      "0.825999981537\n",
      "0.823499981593\n",
      "0.756499983091\n",
      "0.866999980621\n",
      "0.930499979202\n",
      "0.867999980599\n",
      "0.774499982689\n",
      "0.753999983147\n",
      "0.886999980174\n",
      "0.904999979772\n",
      "0.817499981727\n",
      "0.713999984041\n",
      "0.86749998061\n",
      "0.617499986198\n",
      "0.796999982186\n",
      "0.719499983918\n",
      "0.963499978464\n",
      "0.813499981817\n",
      "0.908999979682\n",
      "0.765999982879\n",
      "0.781999982521\n",
      "0.724499983806\n",
      "0.649499985483\n",
      "0.798499982152\n",
      "0.66749998508\n",
      "0.704499984253\n",
      "0.887999980152\n",
      "0.83349998137\n",
      "0.661499985214\n",
      "0.861499980744\n",
      "0.741499983426\n",
      "0.921999979392\n",
      "0.819999981672\n",
      "0.866999980621\n",
      "0.719999983907\n",
      "0.798499982152\n",
      "0.798999982141\n",
      "0.763499982934\n",
      "0.779999982566\n",
      "0.712499984074\n",
      "0.69749998441\n",
      "1.07499997597\n",
      "0.73549998356\n",
      "0.743499983381\n",
      "0.661999985203\n",
      "0.731999983639\n",
      "0.80349998204\n",
      "0.661999985203\n",
      "0.878999980353\n",
      "0.838499981258\n",
      "0.724999983795\n",
      "0.762999982946\n",
      "0.674999984913\n",
      "0.822499981616\n",
      "0.914999979548\n",
      "0.970999978296\n",
      "0.79949998213\n",
      "0.692499984521\n",
      "0.632499985863\n",
      "0.788499982376\n",
      "0.761499982979\n",
      "0.847499981057\n",
      "0.762999982946\n",
      "0.763499982934\n",
      "0.805499981996\n",
      "0.73149998365\n",
      "0.965499978419\n",
      "0.80799998194\n",
      "0.76549998289\n",
      "0.771999982744\n",
      "0.838999981247\n",
      "0.758499983046\n",
      "0.630499985907\n",
      "0.779999982566\n",
      "0.810999981873\n",
      "0.597499986645\n",
      "0.706999984197\n",
      "0.841499981191\n",
      "0.852499980945\n",
      "0.753499983158\n",
      "0.611999986321\n",
      "0.784999982454\n",
      "0.747499983292\n",
      "0.660499985237\n",
      "0.814499981795\n",
      "0.734999983571\n",
      "0.776499982644\n",
      "0.681499984767\n",
      "0.798999982141\n",
      "0.97799997814\n",
      "0.587999986857\n",
      "0.724999983795\n",
      "0.785999982432\n",
      "0.78649998242\n",
      "0.858499980811\n",
      "0.725999983773\n",
      "0.896499979962\n",
      "0.753499983158\n",
      "0.678499984834\n",
      "0.865499980655\n",
      "0.763499982934\n",
      "0.690999984555\n",
      "0.681499984767\n",
      "0.739499983471\n",
      "0.962499978486\n",
      "0.68049998479\n",
      "0.630499985907\n",
      "0.917499979492\n",
      "0.811499981862\n",
      "0.747999983281\n",
      "0.795499982219\n",
      "0.958499978576\n",
      "0.763999982923\n",
      "0.773499982711\n",
      "0.763999982923\n",
      "0.736999983527\n",
      "0.815499981772\n"
     ]
    }
   ],
   "source": [
    "scores_window = deque(maxlen=100)\n",
    "for i in range(200):\n",
    "    env_info = env.reset(train_mode=True)[brain_name]\n",
    "    states_ = env_info.vector_observations\n",
    "    scores = np.zeros(num_agents)\n",
    "    memories = Experience()\n",
    "    done = [False] * num_agents\n",
    "    steps = 0\n",
    "    # while not np.any(done):\n",
    "    while True:\n",
    "        actions_, log_prob_, state_values_ = agent(\n",
    "                torch.FloatTensor(states).to(device))\n",
    "        env_info = env.step(actions_.detach().cpu().numpy())[brain_name]\n",
    "        next_states_ = env_info.vector_observations\n",
    "        rewards_ = env_info.rewards\n",
    "        done = env_info.local_done\n",
    "        if np.any(done):\n",
    "        # if steps > 11:\n",
    "            break\n",
    "        not_done_ = (1 - np.array(done))\n",
    "        memories.add(actions_, rewards_, log_prob_, not_done_, state_values_)\n",
    "        steps += 1\n",
    "        if steps % 5 == 0:\n",
    "            experiences = memories.spit()\n",
    "            agent.step(experiences, env)\n",
    "            memories = Experience()\n",
    "        states = next_states_\n",
    "        scores += rewards_\n",
    "        # print(scores)\n",
    "    print(np.mean(scores))\n",
    "    scores_window.append(np.mean(scores))\n",
    "    if len(scores_window) > 100 and ((sum(scores_window) / len(scores_window)) > 30):\n",
    "        print(\"solved!\")\n",
    "        break"
   ]
  },
  {
   "cell_type": "code",
   "execution_count": 193,
   "metadata": {},
   "outputs": [],
   "source": [
    "actions, rewards, log_probs, not_dones, state_values, etp_ = experiences"
   ]
  },
  {
   "cell_type": "code",
   "execution_count": 24,
   "metadata": {},
   "outputs": [
    {
     "ename": "NameError",
     "evalue": "name 'optimizer' is not defined",
     "output_type": "error",
     "traceback": [
      "\u001b[0;31m---------------------------------------------------------------------------\u001b[0m",
      "\u001b[0;31mNameError\u001b[0m                                 Traceback (most recent call last)",
      "\u001b[0;32m<ipython-input-24-e16a35f7c083>\u001b[0m in \u001b[0;36m<module>\u001b[0;34m()\u001b[0m\n\u001b[1;32m     21\u001b[0m \u001b[0mloss_v\u001b[0m \u001b[0;34m=\u001b[0m \u001b[0mpolicy_loss\u001b[0m  \u001b[0;34m+\u001b[0m \u001b[0mvalue_loss\u001b[0m\u001b[0;34m\u001b[0m\u001b[0m\n\u001b[1;32m     22\u001b[0m \u001b[0mloss_v\u001b[0m\u001b[0;34m.\u001b[0m\u001b[0mmean\u001b[0m\u001b[0;34m(\u001b[0m\u001b[0;34m)\u001b[0m\u001b[0;34m.\u001b[0m\u001b[0mbackward\u001b[0m\u001b[0;34m(\u001b[0m\u001b[0;34m)\u001b[0m\u001b[0;34m\u001b[0m\u001b[0m\n\u001b[0;32m---> 23\u001b[0;31m \u001b[0moptimizer\u001b[0m\u001b[0;34m.\u001b[0m\u001b[0mstep\u001b[0m\u001b[0;34m(\u001b[0m\u001b[0;34m)\u001b[0m\u001b[0;34m\u001b[0m\u001b[0m\n\u001b[0m\u001b[1;32m     24\u001b[0m \u001b[0mprint\u001b[0m\u001b[0;34m(\u001b[0m\u001b[0madvantage_v_\u001b[0m\u001b[0;34m)\u001b[0m\u001b[0;34m\u001b[0m\u001b[0m\n\u001b[1;32m     25\u001b[0m \u001b[0mprint\u001b[0m\u001b[0;34m(\u001b[0m\u001b[0madvantage_p_\u001b[0m\u001b[0;34m)\u001b[0m\u001b[0;34m\u001b[0m\u001b[0m\n",
      "\u001b[0;31mNameError\u001b[0m: name 'optimizer' is not defined"
     ]
    }
   ],
   "source": [
    "import math\n",
    "ENTROPY_BETA = 0.001\n",
    "actions, rewards, log_probs, not_dones, state_values, etps = experiences\n",
    "rewards = torch.FloatTensor(rewards).transpose(0, 1).contiguous()\n",
    "state_values_last = state_values[-1].detach()\n",
    "processed_experience = [None]* len(experiences[0])\n",
    "for i in reversed(range(len(experiences[0]))):\n",
    "    power = (len(experiences[0])-i)\n",
    "    not_done_ = torch.FloatTensor(not_dones[i]).to(device).unsqueeze(1)\n",
    "    discount_ = np.array([((self.params['gamma'] ** p )) for p in range(power)])\n",
    "    discount_ = torch.FloatTensor(discount_).to(device).unsqueeze(1)\n",
    "    returns_ = torch.mm(rewards[:, i:].to(device), discount_) + self.params['gamma'] ** power * not_done_ * state_values_last\n",
    "    advantage_v_ = returns_ - state_values[i]\n",
    "    # advantage_p_ = advantage_v_.detach()\n",
    "    advantage_p_ = advantage_v_.copy()\n",
    "    processed_experience[i] = [log_probs[i], advantage_v_, advantage_p_]\n",
    "log_prob, advantage_v, advantage_p = map(lambda x: torch.cat(x, dim=0), zip(*processed_experience))\n",
    "policy_loss = -log_prob * advantage_p.mean()\n",
    "value_loss = 0.5 * (advantage_v).pow(2).mean()\n",
    "entropy_loss = ENTROPY_BETA * torch.FloatTensor(etps).to(device)\n",
    "\n",
    "loss_v = policy_loss  + value_loss\n",
    "loss_v.mean().backward()\n",
    "optimizer.step()\n",
    "print(advantage_v_)\n",
    "print(advantage_p_)\n",
    "\n",
    "        "
   ]
  },
  {
   "cell_type": "code",
   "execution_count": 76,
   "metadata": {},
   "outputs": [
    {
     "data": {
      "text/plain": [
       "tensor(1.00000e-03 *\n",
       "       -1.8518)"
      ]
     },
     "execution_count": 76,
     "metadata": {},
     "output_type": "execute_result"
    }
   ],
   "source": [
    "loss_v.mean()"
   ]
  },
  {
   "cell_type": "code",
   "execution_count": 60,
   "metadata": {},
   "outputs": [
    {
     "data": {
      "text/plain": [
       "torch.Size([20, 1])"
      ]
     },
     "execution_count": 60,
     "metadata": {},
     "output_type": "execute_result"
    }
   ],
   "source": [
    "rewards[:, i:].shape"
   ]
  },
  {
   "cell_type": "code",
   "execution_count": 26,
   "metadata": {},
   "outputs": [
    {
     "ename": "RuntimeError",
     "evalue": "matrices expected, got 1D, 2D tensors at /opt/conda/conda-bld/pytorch_1524584710464/work/aten/src/TH/generic/THTensorMath.c:2028",
     "output_type": "error",
     "traceback": [
      "\u001b[0;31m---------------------------------------------------------------------------\u001b[0m",
      "\u001b[0;31mRuntimeError\u001b[0m                              Traceback (most recent call last)",
      "\u001b[0;32m<ipython-input-26-42da1e7e7c2d>\u001b[0m in \u001b[0;36m<module>\u001b[0;34m()\u001b[0m\n\u001b[0;32m----> 1\u001b[0;31m \u001b[0mtorch\u001b[0m\u001b[0;34m.\u001b[0m\u001b[0mmm\u001b[0m\u001b[0;34m(\u001b[0m\u001b[0mdiscount_\u001b[0m\u001b[0;34m,\u001b[0m \u001b[0mrewards\u001b[0m\u001b[0;34m[\u001b[0m\u001b[0;34m:\u001b[0m\u001b[0;34m,\u001b[0m \u001b[0mi\u001b[0m\u001b[0;34m:\u001b[0m\u001b[0;34m]\u001b[0m\u001b[0;34m)\u001b[0m\u001b[0;34m\u001b[0m\u001b[0m\n\u001b[0m",
      "\u001b[0;31mRuntimeError\u001b[0m: matrices expected, got 1D, 2D tensors at /opt/conda/conda-bld/pytorch_1524584710464/work/aten/src/TH/generic/THTensorMath.c:2028"
     ]
    }
   ],
   "source": [
    "torch.mm(discount_, rewards[:, i:])"
   ]
  },
  {
   "cell_type": "code",
   "execution_count": 254,
   "metadata": {},
   "outputs": [
    {
     "data": {
      "text/plain": [
       "0.99"
      ]
     },
     "execution_count": 254,
     "metadata": {},
     "output_type": "execute_result"
    }
   ],
   "source": [
    "power = (len(experiences)-i)\n",
    "self.params['gamma']**power"
   ]
  },
  {
   "cell_type": "code",
   "execution_count": 22,
   "metadata": {},
   "outputs": [],
   "source": [
    "class dummy():\n",
    "    def __init__(self):\n",
    "        self.params = {'gamma': 0.99}\n",
    "self = dummy()"
   ]
  },
  {
   "cell_type": "code",
   "execution_count": 209,
   "metadata": {},
   "outputs": [
    {
     "data": {
      "text/plain": [
       "torch.Size([20, 5])"
      ]
     },
     "execution_count": 209,
     "metadata": {},
     "output_type": "execute_result"
    }
   ],
   "source": [
    "rewards[:,:i+1].shape"
   ]
  },
  {
   "cell_type": "code",
   "execution_count": 206,
   "metadata": {},
   "outputs": [
    {
     "name": "stdout",
     "output_type": "stream",
     "text": [
      "tensor([[ 0.8306],\n",
      "        [ 0.3578],\n",
      "        [ 0.6825],\n",
      "        [ 0.7754]])\n",
      "tensor([[ 2.6462],\n",
      "        [ 2.6462],\n",
      "        [ 2.6462],\n",
      "        [ 2.6462],\n",
      "        [ 2.6462],\n",
      "        [ 2.6462],\n",
      "        [ 2.6462],\n",
      "        [ 2.6462],\n",
      "        [ 2.6462],\n",
      "        [ 2.6462],\n",
      "        [ 2.6462],\n",
      "        [ 2.6462],\n",
      "        [ 2.6462],\n",
      "        [ 2.6462],\n",
      "        [ 2.6462],\n",
      "        [ 2.6462],\n",
      "        [ 2.6462],\n",
      "        [ 2.6462],\n",
      "        [ 2.6462],\n",
      "        [ 2.6462]])\n"
     ]
    }
   ],
   "source": [
    "a = torch.ones(20, 4)\n",
    "b = torch.rand(4, 1)\n",
    "print(b)\n",
    "print(torch.mm(a, b))"
   ]
  },
  {
   "cell_type": "code",
   "execution_count": 205,
   "metadata": {},
   "outputs": [
    {
     "data": {
      "text/plain": [
       "tensor([[ 0.],\n",
       "        [ 0.],\n",
       "        [ 0.],\n",
       "        [ 0.],\n",
       "        [ 0.],\n",
       "        [ 0.],\n",
       "        [ 0.],\n",
       "        [ 0.],\n",
       "        [ 0.],\n",
       "        [ 0.],\n",
       "        [ 0.],\n",
       "        [ 0.],\n",
       "        [ 0.],\n",
       "        [ 0.],\n",
       "        [ 0.],\n",
       "        [ 0.],\n",
       "        [ 0.],\n",
       "        [ 0.],\n",
       "        [ 0.],\n",
       "        [ 0.]])"
      ]
     },
     "execution_count": 205,
     "metadata": {},
     "output_type": "execute_result"
    }
   ],
   "source": [
    "torch.mm(rewards[:,:i+1], discount)"
   ]
  },
  {
   "cell_type": "code",
   "execution_count": 170,
   "metadata": {},
   "outputs": [
    {
     "name": "stdout",
     "output_type": "stream",
     "text": [
      "tensor([ 1.0000,  0.9900,  0.9801,  0.9703,  0.9606])\n"
     ]
    }
   ],
   "source": [
    "discount = torch.FloatTensor(np.array([((self.params['gamma'] ** p ))for p in range(len(experiences)-i)])).to(device) \n",
    "print(discount)"
   ]
  },
  {
   "cell_type": "code",
   "execution_count": 159,
   "metadata": {},
   "outputs": [
    {
     "data": {
      "text/plain": [
       "tensor([ 0.,  0.,  0.,  0.,  0.])"
      ]
     },
     "execution_count": 159,
     "metadata": {},
     "output_type": "execute_result"
    }
   ],
   "source": [
    "torch.zeros(5) * 2.2"
   ]
  },
  {
   "cell_type": "code",
   "execution_count": 132,
   "metadata": {},
   "outputs": [
    {
     "name": "stdout",
     "output_type": "stream",
     "text": [
      "torch.Size([20, 1])\n"
     ]
    }
   ],
   "source": [
    "print(torch.FloatTensor(not_dones[i]).to(device).unsqueeze(1).shape)"
   ]
  },
  {
   "cell_type": "code",
   "execution_count": 106,
   "metadata": {},
   "outputs": [],
   "source": [
    "class dummy():\n",
    "    def __init__(self):\n",
    "        self.params = {'gamma':0.99}\n",
    "self = dummy()    "
   ]
  },
  {
   "cell_type": "code",
   "execution_count": 108,
   "metadata": {},
   "outputs": [
    {
     "name": "stdout",
     "output_type": "stream",
     "text": [
      "0.99\n"
     ]
    }
   ],
   "source": [
    "print(self.params['gamma'])"
   ]
  },
  {
   "cell_type": "code",
   "execution_count": 133,
   "metadata": {},
   "outputs": [
    {
     "name": "stdout",
     "output_type": "stream",
     "text": [
      "4\n"
     ]
    }
   ],
   "source": [
    "print(i)"
   ]
  },
  {
   "cell_type": "markdown",
   "metadata": {},
   "source": [
    "When finished, you can close the environment."
   ]
  },
  {
   "cell_type": "code",
   "execution_count": null,
   "metadata": {},
   "outputs": [],
   "source": [
    "env.close()"
   ]
  },
  {
   "cell_type": "markdown",
   "metadata": {},
   "source": [
    "### 4. It's Your Turn!\n",
    "\n",
    "Now it's your turn to train your own agent to solve the environment!  A few **important notes**:\n",
    "- When training the environment, set `train_mode=True`, so that the line for resetting the environment looks like the following:\n",
    "```python\n",
    "env_info = env.reset(train_mode=True)[brain_name]\n",
    "```\n",
    "- To structure your work, you're welcome to work directly in this Jupyter notebook, or you might like to start over with a new file!  You can see the list of files in the workspace by clicking on **_Jupyter_** in the top left corner of the notebook.\n",
    "- In this coding environment, you will not be able to watch the agents while they are training.  However, **_after training the agents_**, you can download the saved model weights to watch the agents on your own machine! "
   ]
  }
 ],
 "metadata": {
  "kernelspec": {
   "display_name": "Python 3",
   "language": "python",
   "name": "python3"
  },
  "language_info": {
   "codemirror_mode": {
    "name": "ipython",
    "version": 3
   },
   "file_extension": ".py",
   "mimetype": "text/x-python",
   "name": "python",
   "nbconvert_exporter": "python",
   "pygments_lexer": "ipython3",
   "version": "3.6.3"
  }
 },
 "nbformat": 4,
 "nbformat_minor": 2
}
